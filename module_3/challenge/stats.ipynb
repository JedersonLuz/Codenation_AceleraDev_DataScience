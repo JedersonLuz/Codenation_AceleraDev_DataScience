{
 "cells": [
  {
   "cell_type": "markdown",
   "metadata": {},
   "source": [
    "# Conhecendo melhor nossa base de consumidores: qual estado possui os clientes com melhores pontuações de crédito?\n",
    "\n",
    "## Objetivo\n",
    "\n",
    "Queremos conhecer melhor nossos clientes por estado. Para isso, iniciamos uma análise na pontuação de crédito. \n",
    "Para realizar a verificação inicial, precisamos de alguns valores.\n",
    "Os valores são a média, a mediana, a moda e o desvio padrão da pontuação de crédito."
   ]
  },
  {
   "cell_type": "markdown",
   "metadata": {},
   "source": [
    "## Detalhes\n",
    "\n",
    "A resposta deve conter os valores da média, mediana, moda e desvio padrão da pontuação de crédito para cada estado do dataset.\n",
    "O arquivo para submissão deve estar em formato json, conforme o arquivo exemplo \"submission.json\"."
   ]
  },
  {
   "cell_type": "markdown",
   "metadata": {},
   "source": [
    "## Carregando bibliotecas"
   ]
  },
  {
   "cell_type": "code",
   "execution_count": 1,
   "metadata": {},
   "outputs": [],
   "source": [
    "import pandas as pd\n",
    "import numpy as np"
   ]
  },
  {
   "cell_type": "markdown",
   "metadata": {},
   "source": [
    "## Carregando dataset"
   ]
  },
  {
   "cell_type": "code",
   "execution_count": 4,
   "metadata": {},
   "outputs": [
    {
     "data": {
      "text/html": [
       "<div>\n",
       "<style scoped>\n",
       "    .dataframe tbody tr th:only-of-type {\n",
       "        vertical-align: middle;\n",
       "    }\n",
       "\n",
       "    .dataframe tbody tr th {\n",
       "        vertical-align: top;\n",
       "    }\n",
       "\n",
       "    .dataframe thead th {\n",
       "        text-align: right;\n",
       "    }\n",
       "</style>\n",
       "<table border=\"1\" class=\"dataframe\">\n",
       "  <thead>\n",
       "    <tr style=\"text-align: right;\">\n",
       "      <th></th>\n",
       "      <th>id</th>\n",
       "      <th>sobrenome</th>\n",
       "      <th>pontuacao_credito</th>\n",
       "      <th>estado_residencia</th>\n",
       "      <th>genero</th>\n",
       "      <th>idade</th>\n",
       "      <th>nivel_estabilidade</th>\n",
       "      <th>saldo_conta</th>\n",
       "      <th>numero_produtos</th>\n",
       "      <th>possui_cartao_de_credito</th>\n",
       "      <th>membro_ativo</th>\n",
       "    </tr>\n",
       "    <tr>\n",
       "      <th>RowNumber</th>\n",
       "      <th></th>\n",
       "      <th></th>\n",
       "      <th></th>\n",
       "      <th></th>\n",
       "      <th></th>\n",
       "      <th></th>\n",
       "      <th></th>\n",
       "      <th></th>\n",
       "      <th></th>\n",
       "      <th></th>\n",
       "      <th></th>\n",
       "    </tr>\n",
       "  </thead>\n",
       "  <tbody>\n",
       "    <tr>\n",
       "      <th>1</th>\n",
       "      <td>e7f44fcbd380d4cef7e6c232cc7e37895c3fd197</td>\n",
       "      <td>6d6e0aa1b9b413e442e2fb68df14b4fc3f91de50</td>\n",
       "      <td>619</td>\n",
       "      <td>SC</td>\n",
       "      <td>F</td>\n",
       "      <td>42</td>\n",
       "      <td>2</td>\n",
       "      <td>0.00</td>\n",
       "      <td>1</td>\n",
       "      <td>1</td>\n",
       "      <td>1</td>\n",
       "    </tr>\n",
       "    <tr>\n",
       "      <th>2</th>\n",
       "      <td>28dcb083ad90512da16b9430085c2cddb8ca5e12</td>\n",
       "      <td>48e1ad846796fa314f1b4a6702b83343eb5482c5</td>\n",
       "      <td>608</td>\n",
       "      <td>RS</td>\n",
       "      <td>F</td>\n",
       "      <td>41</td>\n",
       "      <td>1</td>\n",
       "      <td>83807.86</td>\n",
       "      <td>1</td>\n",
       "      <td>0</td>\n",
       "      <td>1</td>\n",
       "    </tr>\n",
       "    <tr>\n",
       "      <th>3</th>\n",
       "      <td>774bc378f787438c9c7594e536787d07a097a54b</td>\n",
       "      <td>f2b29d5d934de615812b697132e767dea0f1e9e2</td>\n",
       "      <td>502</td>\n",
       "      <td>SC</td>\n",
       "      <td>F</td>\n",
       "      <td>42</td>\n",
       "      <td>8</td>\n",
       "      <td>159660.80</td>\n",
       "      <td>3</td>\n",
       "      <td>1</td>\n",
       "      <td>0</td>\n",
       "    </tr>\n",
       "    <tr>\n",
       "      <th>4</th>\n",
       "      <td>043a71326f7096de155e7f0c559dc62b5e4b7239</td>\n",
       "      <td>85d5c9da7cddd8109ad32a6c348fe2bb10bf99f2</td>\n",
       "      <td>699</td>\n",
       "      <td>SC</td>\n",
       "      <td>F</td>\n",
       "      <td>39</td>\n",
       "      <td>1</td>\n",
       "      <td>0.00</td>\n",
       "      <td>2</td>\n",
       "      <td>0</td>\n",
       "      <td>0</td>\n",
       "    </tr>\n",
       "    <tr>\n",
       "      <th>5</th>\n",
       "      <td>37b3bb8ca243955fb3605ec7e1c2a4607cdb3b22</td>\n",
       "      <td>ddc89c837a6933639de75f28171057060bd322df</td>\n",
       "      <td>850</td>\n",
       "      <td>RS</td>\n",
       "      <td>F</td>\n",
       "      <td>43</td>\n",
       "      <td>2</td>\n",
       "      <td>125510.82</td>\n",
       "      <td>1</td>\n",
       "      <td>1</td>\n",
       "      <td>1</td>\n",
       "    </tr>\n",
       "  </tbody>\n",
       "</table>\n",
       "</div>"
      ],
      "text/plain": [
       "                                                 id  \\\n",
       "RowNumber                                             \n",
       "1          e7f44fcbd380d4cef7e6c232cc7e37895c3fd197   \n",
       "2          28dcb083ad90512da16b9430085c2cddb8ca5e12   \n",
       "3          774bc378f787438c9c7594e536787d07a097a54b   \n",
       "4          043a71326f7096de155e7f0c559dc62b5e4b7239   \n",
       "5          37b3bb8ca243955fb3605ec7e1c2a4607cdb3b22   \n",
       "\n",
       "                                          sobrenome  pontuacao_credito  \\\n",
       "RowNumber                                                                \n",
       "1          6d6e0aa1b9b413e442e2fb68df14b4fc3f91de50                619   \n",
       "2          48e1ad846796fa314f1b4a6702b83343eb5482c5                608   \n",
       "3          f2b29d5d934de615812b697132e767dea0f1e9e2                502   \n",
       "4          85d5c9da7cddd8109ad32a6c348fe2bb10bf99f2                699   \n",
       "5          ddc89c837a6933639de75f28171057060bd322df                850   \n",
       "\n",
       "          estado_residencia genero  idade  nivel_estabilidade  saldo_conta  \\\n",
       "RowNumber                                                                    \n",
       "1                        SC      F     42                   2         0.00   \n",
       "2                        RS      F     41                   1     83807.86   \n",
       "3                        SC      F     42                   8    159660.80   \n",
       "4                        SC      F     39                   1         0.00   \n",
       "5                        RS      F     43                   2    125510.82   \n",
       "\n",
       "           numero_produtos  possui_cartao_de_credito  membro_ativo  \n",
       "RowNumber                                                           \n",
       "1                        1                         1             1  \n",
       "2                        1                         0             1  \n",
       "3                        3                         1             0  \n",
       "4                        2                         0             0  \n",
       "5                        1                         1             1  "
      ]
     },
     "execution_count": 4,
     "metadata": {},
     "output_type": "execute_result"
    }
   ],
   "source": [
    "credit_df = pd.read_csv('desafio1.csv', index_col=0)\n",
    "credit_df.head()"
   ]
  },
  {
   "cell_type": "code",
   "execution_count": 5,
   "metadata": {},
   "outputs": [
    {
     "name": "stdout",
     "output_type": "stream",
     "text": [
      "<class 'pandas.core.frame.DataFrame'>\n",
      "Int64Index: 7000 entries, 1 to 7000\n",
      "Data columns (total 11 columns):\n",
      " #   Column                    Non-Null Count  Dtype  \n",
      "---  ------                    --------------  -----  \n",
      " 0   id                        7000 non-null   object \n",
      " 1   sobrenome                 7000 non-null   object \n",
      " 2   pontuacao_credito         7000 non-null   int64  \n",
      " 3   estado_residencia         7000 non-null   object \n",
      " 4   genero                    7000 non-null   object \n",
      " 5   idade                     7000 non-null   int64  \n",
      " 6   nivel_estabilidade        7000 non-null   int64  \n",
      " 7   saldo_conta               7000 non-null   float64\n",
      " 8   numero_produtos           7000 non-null   int64  \n",
      " 9   possui_cartao_de_credito  7000 non-null   int64  \n",
      " 10  membro_ativo              7000 non-null   int64  \n",
      "dtypes: float64(1), int64(6), object(4)\n",
      "memory usage: 656.2+ KB\n"
     ]
    }
   ],
   "source": [
    "credit_df.info()"
   ]
  },
  {
   "cell_type": "markdown",
   "metadata": {},
   "source": [
    "## Análise descritiva"
   ]
  },
  {
   "cell_type": "code",
   "execution_count": 41,
   "metadata": {},
   "outputs": [
    {
     "data": {
      "text/plain": [
       "['SC', 'RS', 'PR']"
      ]
     },
     "execution_count": 41,
     "metadata": {},
     "output_type": "execute_result"
    }
   ],
   "source": [
    "states = list(credit_df['estado_residencia'].unique())\n",
    "states"
   ]
  },
  {
   "cell_type": "code",
   "execution_count": 42,
   "metadata": {},
   "outputs": [
    {
     "data": {
      "text/plain": [
       "{'SC': {}, 'RS': {}, 'PR': {}}"
      ]
     },
     "execution_count": 42,
     "metadata": {},
     "output_type": "execute_result"
    }
   ],
   "source": [
    "submission = {}\n",
    "for state in states:\n",
    "    submission[state] = {}\n",
    "submission"
   ]
  },
  {
   "cell_type": "code",
   "execution_count": 43,
   "metadata": {},
   "outputs": [
    {
     "data": {
      "text/plain": [
       "{'SC': {'media': 649.5376527422563},\n",
       " 'RS': {'media': 651.1051428571428},\n",
       " 'PR': {'media': 648.9612940496822}}"
      ]
     },
     "execution_count": 43,
     "metadata": {},
     "output_type": "execute_result"
    }
   ],
   "source": [
    "for i, v in credit_df.groupby('estado_residencia')['pontuacao_credito'].mean().items():\n",
    "    submission[i]['media'] = v\n",
    "submission"
   ]
  },
  {
   "cell_type": "code",
   "execution_count": 44,
   "metadata": {},
   "outputs": [
    {
     "data": {
      "text/plain": [
       "{'SC': {'media': 649.5376527422563, 'mediana': 653},\n",
       " 'RS': {'media': 651.1051428571428, 'mediana': 650},\n",
       " 'PR': {'media': 648.9612940496822, 'mediana': 650}}"
      ]
     },
     "execution_count": 44,
     "metadata": {},
     "output_type": "execute_result"
    }
   ],
   "source": [
    "for i, v in credit_df.groupby('estado_residencia')['pontuacao_credito'].median().items():\n",
    "    submission[i]['mediana'] = v\n",
    "submission"
   ]
  },
  {
   "cell_type": "code",
   "execution_count": 45,
   "metadata": {},
   "outputs": [
    {
     "data": {
      "text/plain": [
       "{'SC': {'media': 649.5376527422563, 'mediana': 653, 'moda': 850},\n",
       " 'RS': {'media': 651.1051428571428, 'mediana': 650, 'moda': 850},\n",
       " 'PR': {'media': 648.9612940496822, 'mediana': 650, 'moda': 850}}"
      ]
     },
     "execution_count": 45,
     "metadata": {},
     "output_type": "execute_result"
    }
   ],
   "source": [
    "for i, v in credit_df.groupby('estado_residencia')['pontuacao_credito'].agg(lambda x:x.value_counts().index[0]).items():\n",
    "    submission[i]['moda'] = v\n",
    "submission"
   ]
  },
  {
   "cell_type": "code",
   "execution_count": 46,
   "metadata": {},
   "outputs": [
    {
     "data": {
      "text/plain": [
       "{'SC': {'media': 649.5376527422563,\n",
       "  'mediana': 653,\n",
       "  'moda': 850,\n",
       "  'desvio_padrao': 97.23349279343314},\n",
       " 'RS': {'media': 651.1051428571428,\n",
       "  'mediana': 650,\n",
       "  'moda': 850,\n",
       "  'desvio_padrao': 95.1365984138358},\n",
       " 'PR': {'media': 648.9612940496822,\n",
       "  'mediana': 650,\n",
       "  'moda': 850,\n",
       "  'desvio_padrao': 98.60718591309755}}"
      ]
     },
     "execution_count": 46,
     "metadata": {},
     "output_type": "execute_result"
    }
   ],
   "source": [
    "for i, v in credit_df.groupby('estado_residencia')['pontuacao_credito'].std().items():\n",
    "    submission[i]['desvio_padrao'] = v\n",
    "submission"
   ]
  },
  {
   "cell_type": "code",
   "execution_count": 47,
   "metadata": {},
   "outputs": [
    {
     "data": {
      "text/html": [
       "<div>\n",
       "<style scoped>\n",
       "    .dataframe tbody tr th:only-of-type {\n",
       "        vertical-align: middle;\n",
       "    }\n",
       "\n",
       "    .dataframe tbody tr th {\n",
       "        vertical-align: top;\n",
       "    }\n",
       "\n",
       "    .dataframe thead th {\n",
       "        text-align: right;\n",
       "    }\n",
       "</style>\n",
       "<table border=\"1\" class=\"dataframe\">\n",
       "  <thead>\n",
       "    <tr style=\"text-align: right;\">\n",
       "      <th></th>\n",
       "      <th>SC</th>\n",
       "      <th>RS</th>\n",
       "      <th>PR</th>\n",
       "    </tr>\n",
       "  </thead>\n",
       "  <tbody>\n",
       "    <tr>\n",
       "      <th>media</th>\n",
       "      <td>649.537653</td>\n",
       "      <td>651.105143</td>\n",
       "      <td>648.961294</td>\n",
       "    </tr>\n",
       "    <tr>\n",
       "      <th>mediana</th>\n",
       "      <td>653.000000</td>\n",
       "      <td>650.000000</td>\n",
       "      <td>650.000000</td>\n",
       "    </tr>\n",
       "    <tr>\n",
       "      <th>moda</th>\n",
       "      <td>850.000000</td>\n",
       "      <td>850.000000</td>\n",
       "      <td>850.000000</td>\n",
       "    </tr>\n",
       "    <tr>\n",
       "      <th>desvio_padrao</th>\n",
       "      <td>97.233493</td>\n",
       "      <td>95.136598</td>\n",
       "      <td>98.607186</td>\n",
       "    </tr>\n",
       "  </tbody>\n",
       "</table>\n",
       "</div>"
      ],
      "text/plain": [
       "                       SC          RS          PR\n",
       "media          649.537653  651.105143  648.961294\n",
       "mediana        653.000000  650.000000  650.000000\n",
       "moda           850.000000  850.000000  850.000000\n",
       "desvio_padrao   97.233493   95.136598   98.607186"
      ]
     },
     "execution_count": 47,
     "metadata": {},
     "output_type": "execute_result"
    }
   ],
   "source": [
    "submission = pd.DataFrame(submission)\n",
    "submission"
   ]
  },
  {
   "cell_type": "code",
   "execution_count": 48,
   "metadata": {},
   "outputs": [],
   "source": [
    "submission.to_json('submission.json')"
   ]
  },
  {
   "cell_type": "code",
   "execution_count": null,
   "metadata": {},
   "outputs": [],
   "source": []
  }
 ],
 "metadata": {
  "kernelspec": {
   "display_name": "Python 3",
   "language": "python",
   "name": "python3"
  },
  "language_info": {
   "codemirror_mode": {
    "name": "ipython",
    "version": 3
   },
   "file_extension": ".py",
   "mimetype": "text/x-python",
   "name": "python",
   "nbconvert_exporter": "python",
   "pygments_lexer": "ipython3",
   "version": "3.7.6"
  }
 },
 "nbformat": 4,
 "nbformat_minor": 4
}
