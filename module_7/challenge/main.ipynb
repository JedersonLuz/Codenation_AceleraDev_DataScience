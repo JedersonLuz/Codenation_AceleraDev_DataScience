{
 "cells": [
  {
   "cell_type": "markdown",
   "metadata": {},
   "source": [
    "# Desafio 6\n",
    "\n",
    "Neste desafio, vamos praticar _feature engineering_, um dos processos mais importantes e trabalhosos de ML. Utilizaremos o _data set_ [Countries of the world](https://www.kaggle.com/fernandol/countries-of-the-world), que contém dados sobre os 227 países do mundo com informações sobre tamanho da população, área, imigração e setores de produção.\n",
    "\n",
    "> Obs.: Por favor, não modifique o nome das funções de resposta."
   ]
  },
  {
   "cell_type": "markdown",
   "metadata": {},
   "source": [
    "## _Setup_ geral"
   ]
  },
  {
   "cell_type": "code",
   "execution_count": 155,
   "metadata": {},
   "outputs": [],
   "source": [
    "import pandas as pd\n",
    "import numpy as np\n",
    "import seaborn as sns\n",
    "import sklearn as sk\n",
    "from sklearn.pipeline import Pipeline\n",
    "from sklearn.impute import SimpleImputer\n",
    "from sklearn.datasets import fetch_20newsgroups\n",
    "from sklearn.feature_extraction.text import CountVectorizer, TfidfVectorizer\n",
    "from sklearn.preprocessing import KBinsDiscretizer, OneHotEncoder, StandardScaler"
   ]
  },
  {
   "cell_type": "code",
   "execution_count": 2,
   "metadata": {},
   "outputs": [],
   "source": [
    "# Algumas configurações para o matplotlib.\n",
    "#%matplotlib inline\n",
    "\n",
    "from IPython.core.pylabtools import figsize\n",
    "\n",
    "\n",
    "figsize(12, 8)\n",
    "\n",
    "sns.set()"
   ]
  },
  {
   "cell_type": "code",
   "execution_count": 172,
   "metadata": {
    "scrolled": true
   },
   "outputs": [],
   "source": [
    "countries = pd.read_csv(\"countries.csv\")"
   ]
  },
  {
   "cell_type": "code",
   "execution_count": 173,
   "metadata": {},
   "outputs": [
    {
     "data": {
      "text/html": [
       "<div>\n",
       "<style scoped>\n",
       "    .dataframe tbody tr th:only-of-type {\n",
       "        vertical-align: middle;\n",
       "    }\n",
       "\n",
       "    .dataframe tbody tr th {\n",
       "        vertical-align: top;\n",
       "    }\n",
       "\n",
       "    .dataframe thead th {\n",
       "        text-align: right;\n",
       "    }\n",
       "</style>\n",
       "<table border=\"1\" class=\"dataframe\">\n",
       "  <thead>\n",
       "    <tr style=\"text-align: right;\">\n",
       "      <th></th>\n",
       "      <th>Country</th>\n",
       "      <th>Region</th>\n",
       "      <th>Population</th>\n",
       "      <th>Area</th>\n",
       "      <th>Pop_density</th>\n",
       "      <th>Coastline_ratio</th>\n",
       "      <th>Net_migration</th>\n",
       "      <th>Infant_mortality</th>\n",
       "      <th>GDP</th>\n",
       "      <th>Literacy</th>\n",
       "      <th>Phones_per_1000</th>\n",
       "      <th>Arable</th>\n",
       "      <th>Crops</th>\n",
       "      <th>Other</th>\n",
       "      <th>Climate</th>\n",
       "      <th>Birthrate</th>\n",
       "      <th>Deathrate</th>\n",
       "      <th>Agriculture</th>\n",
       "      <th>Industry</th>\n",
       "      <th>Service</th>\n",
       "    </tr>\n",
       "  </thead>\n",
       "  <tbody>\n",
       "    <tr>\n",
       "      <th>0</th>\n",
       "      <td>Afghanistan</td>\n",
       "      <td>ASIA (EX. NEAR EAST)</td>\n",
       "      <td>31056997</td>\n",
       "      <td>647500</td>\n",
       "      <td>48,0</td>\n",
       "      <td>0,00</td>\n",
       "      <td>23,06</td>\n",
       "      <td>163,07</td>\n",
       "      <td>700.0</td>\n",
       "      <td>36,0</td>\n",
       "      <td>3,2</td>\n",
       "      <td>12,13</td>\n",
       "      <td>0,22</td>\n",
       "      <td>87,65</td>\n",
       "      <td>1</td>\n",
       "      <td>46,6</td>\n",
       "      <td>20,34</td>\n",
       "      <td>0,38</td>\n",
       "      <td>0,24</td>\n",
       "      <td>0,38</td>\n",
       "    </tr>\n",
       "    <tr>\n",
       "      <th>1</th>\n",
       "      <td>Albania</td>\n",
       "      <td>EASTERN EUROPE</td>\n",
       "      <td>3581655</td>\n",
       "      <td>28748</td>\n",
       "      <td>124,6</td>\n",
       "      <td>1,26</td>\n",
       "      <td>-4,93</td>\n",
       "      <td>21,52</td>\n",
       "      <td>4500.0</td>\n",
       "      <td>86,5</td>\n",
       "      <td>71,2</td>\n",
       "      <td>21,09</td>\n",
       "      <td>4,42</td>\n",
       "      <td>74,49</td>\n",
       "      <td>3</td>\n",
       "      <td>15,11</td>\n",
       "      <td>5,22</td>\n",
       "      <td>0,232</td>\n",
       "      <td>0,188</td>\n",
       "      <td>0,579</td>\n",
       "    </tr>\n",
       "    <tr>\n",
       "      <th>2</th>\n",
       "      <td>Algeria</td>\n",
       "      <td>NORTHERN AFRICA</td>\n",
       "      <td>32930091</td>\n",
       "      <td>2381740</td>\n",
       "      <td>13,8</td>\n",
       "      <td>0,04</td>\n",
       "      <td>-0,39</td>\n",
       "      <td>31</td>\n",
       "      <td>6000.0</td>\n",
       "      <td>70,0</td>\n",
       "      <td>78,1</td>\n",
       "      <td>3,22</td>\n",
       "      <td>0,25</td>\n",
       "      <td>96,53</td>\n",
       "      <td>1</td>\n",
       "      <td>17,14</td>\n",
       "      <td>4,61</td>\n",
       "      <td>0,101</td>\n",
       "      <td>0,6</td>\n",
       "      <td>0,298</td>\n",
       "    </tr>\n",
       "    <tr>\n",
       "      <th>3</th>\n",
       "      <td>American Samoa</td>\n",
       "      <td>OCEANIA</td>\n",
       "      <td>57794</td>\n",
       "      <td>199</td>\n",
       "      <td>290,4</td>\n",
       "      <td>58,29</td>\n",
       "      <td>-20,71</td>\n",
       "      <td>9,27</td>\n",
       "      <td>8000.0</td>\n",
       "      <td>97,0</td>\n",
       "      <td>259,5</td>\n",
       "      <td>10</td>\n",
       "      <td>15</td>\n",
       "      <td>75</td>\n",
       "      <td>2</td>\n",
       "      <td>22,46</td>\n",
       "      <td>3,27</td>\n",
       "      <td>NaN</td>\n",
       "      <td>NaN</td>\n",
       "      <td>NaN</td>\n",
       "    </tr>\n",
       "    <tr>\n",
       "      <th>4</th>\n",
       "      <td>Andorra</td>\n",
       "      <td>WESTERN EUROPE</td>\n",
       "      <td>71201</td>\n",
       "      <td>468</td>\n",
       "      <td>152,1</td>\n",
       "      <td>0,00</td>\n",
       "      <td>6,6</td>\n",
       "      <td>4,05</td>\n",
       "      <td>19000.0</td>\n",
       "      <td>100,0</td>\n",
       "      <td>497,2</td>\n",
       "      <td>2,22</td>\n",
       "      <td>0</td>\n",
       "      <td>97,78</td>\n",
       "      <td>3</td>\n",
       "      <td>8,71</td>\n",
       "      <td>6,25</td>\n",
       "      <td>NaN</td>\n",
       "      <td>NaN</td>\n",
       "      <td>NaN</td>\n",
       "    </tr>\n",
       "  </tbody>\n",
       "</table>\n",
       "</div>"
      ],
      "text/plain": [
       "           Country                               Region  Population     Area  \\\n",
       "0     Afghanistan         ASIA (EX. NEAR EAST)             31056997   647500   \n",
       "1         Albania   EASTERN EUROPE                          3581655    28748   \n",
       "2         Algeria   NORTHERN AFRICA                        32930091  2381740   \n",
       "3  American Samoa   OCEANIA                                   57794      199   \n",
       "4         Andorra   WESTERN EUROPE                            71201      468   \n",
       "\n",
       "  Pop_density Coastline_ratio Net_migration Infant_mortality      GDP  \\\n",
       "0        48,0            0,00         23,06           163,07    700.0   \n",
       "1       124,6            1,26         -4,93            21,52   4500.0   \n",
       "2        13,8            0,04         -0,39               31   6000.0   \n",
       "3       290,4           58,29        -20,71             9,27   8000.0   \n",
       "4       152,1            0,00           6,6             4,05  19000.0   \n",
       "\n",
       "  Literacy Phones_per_1000 Arable Crops  Other Climate Birthrate Deathrate  \\\n",
       "0     36,0             3,2  12,13  0,22  87,65       1      46,6     20,34   \n",
       "1     86,5            71,2  21,09  4,42  74,49       3     15,11      5,22   \n",
       "2     70,0            78,1   3,22  0,25  96,53       1     17,14      4,61   \n",
       "3     97,0           259,5     10    15     75       2     22,46      3,27   \n",
       "4    100,0           497,2   2,22     0  97,78       3      8,71      6,25   \n",
       "\n",
       "  Agriculture Industry Service  \n",
       "0        0,38     0,24    0,38  \n",
       "1       0,232    0,188   0,579  \n",
       "2       0,101      0,6   0,298  \n",
       "3         NaN      NaN     NaN  \n",
       "4         NaN      NaN     NaN  "
      ]
     },
     "execution_count": 173,
     "metadata": {},
     "output_type": "execute_result"
    }
   ],
   "source": [
    "new_column_names = [\n",
    "    \"Country\", \"Region\", \"Population\", \"Area\", \"Pop_density\", \"Coastline_ratio\",\n",
    "    \"Net_migration\", \"Infant_mortality\", \"GDP\", \"Literacy\", \"Phones_per_1000\",\n",
    "    \"Arable\", \"Crops\", \"Other\", \"Climate\", \"Birthrate\", \"Deathrate\", \"Agriculture\",\n",
    "    \"Industry\", \"Service\"\n",
    "]\n",
    "\n",
    "countries.columns = new_column_names\n",
    "\n",
    "countries.head()"
   ]
  },
  {
   "cell_type": "markdown",
   "metadata": {},
   "source": [
    "## Observações\n",
    "\n",
    "Esse _data set_ ainda precisa de alguns ajustes iniciais. Primeiro, note que as variáveis numéricas estão usando vírgula como separador decimal e estão codificadas como strings. Corrija isso antes de continuar: transforme essas variáveis em numéricas adequadamente.\n",
    "\n",
    "Além disso, as variáveis `Country` e `Region` possuem espaços a mais no começo e no final da string. Você pode utilizar o método `str.strip()` para remover esses espaços."
   ]
  },
  {
   "cell_type": "markdown",
   "metadata": {},
   "source": [
    "## Inicia sua análise a partir daqui"
   ]
  },
  {
   "cell_type": "code",
   "execution_count": 174,
   "metadata": {},
   "outputs": [
    {
     "name": "stdout",
     "output_type": "stream",
     "text": [
      "<class 'pandas.core.frame.DataFrame'>\n",
      "RangeIndex: 227 entries, 0 to 226\n",
      "Data columns (total 20 columns):\n",
      " #   Column            Non-Null Count  Dtype  \n",
      "---  ------            --------------  -----  \n",
      " 0   Country           227 non-null    object \n",
      " 1   Region            227 non-null    object \n",
      " 2   Population        227 non-null    int64  \n",
      " 3   Area              227 non-null    int64  \n",
      " 4   Pop_density       227 non-null    object \n",
      " 5   Coastline_ratio   227 non-null    object \n",
      " 6   Net_migration     224 non-null    object \n",
      " 7   Infant_mortality  224 non-null    object \n",
      " 8   GDP               226 non-null    float64\n",
      " 9   Literacy          209 non-null    object \n",
      " 10  Phones_per_1000   223 non-null    object \n",
      " 11  Arable            225 non-null    object \n",
      " 12  Crops             225 non-null    object \n",
      " 13  Other             225 non-null    object \n",
      " 14  Climate           205 non-null    object \n",
      " 15  Birthrate         224 non-null    object \n",
      " 16  Deathrate         223 non-null    object \n",
      " 17  Agriculture       212 non-null    object \n",
      " 18  Industry          211 non-null    object \n",
      " 19  Service           212 non-null    object \n",
      "dtypes: float64(1), int64(2), object(17)\n",
      "memory usage: 35.6+ KB\n"
     ]
    }
   ],
   "source": [
    "countries.info()"
   ]
  },
  {
   "cell_type": "code",
   "execution_count": 177,
   "metadata": {},
   "outputs": [],
   "source": [
    "countries['Country'] = countries['Country'].str.strip()"
   ]
  },
  {
   "cell_type": "code",
   "execution_count": 178,
   "metadata": {},
   "outputs": [],
   "source": [
    "countries['Region'] = countries['Region'].str.strip()"
   ]
  },
  {
   "cell_type": "code",
   "execution_count": 179,
   "metadata": {},
   "outputs": [
    {
     "data": {
      "text/html": [
       "<div>\n",
       "<style scoped>\n",
       "    .dataframe tbody tr th:only-of-type {\n",
       "        vertical-align: middle;\n",
       "    }\n",
       "\n",
       "    .dataframe tbody tr th {\n",
       "        vertical-align: top;\n",
       "    }\n",
       "\n",
       "    .dataframe thead th {\n",
       "        text-align: right;\n",
       "    }\n",
       "</style>\n",
       "<table border=\"1\" class=\"dataframe\">\n",
       "  <thead>\n",
       "    <tr style=\"text-align: right;\">\n",
       "      <th></th>\n",
       "      <th>Country</th>\n",
       "      <th>Region</th>\n",
       "      <th>Population</th>\n",
       "      <th>Area</th>\n",
       "      <th>Pop_density</th>\n",
       "      <th>Coastline_ratio</th>\n",
       "      <th>Net_migration</th>\n",
       "      <th>Infant_mortality</th>\n",
       "      <th>GDP</th>\n",
       "      <th>Literacy</th>\n",
       "      <th>Phones_per_1000</th>\n",
       "      <th>Arable</th>\n",
       "      <th>Crops</th>\n",
       "      <th>Other</th>\n",
       "      <th>Climate</th>\n",
       "      <th>Birthrate</th>\n",
       "      <th>Deathrate</th>\n",
       "      <th>Agriculture</th>\n",
       "      <th>Industry</th>\n",
       "      <th>Service</th>\n",
       "    </tr>\n",
       "  </thead>\n",
       "  <tbody>\n",
       "    <tr>\n",
       "      <th>0</th>\n",
       "      <td>Afghanistan</td>\n",
       "      <td>ASIA (EX. NEAR EAST)</td>\n",
       "      <td>31056997</td>\n",
       "      <td>647500</td>\n",
       "      <td>48.0</td>\n",
       "      <td>0.00</td>\n",
       "      <td>23.06</td>\n",
       "      <td>163.07</td>\n",
       "      <td>700.0</td>\n",
       "      <td>36.0</td>\n",
       "      <td>3.2</td>\n",
       "      <td>12.13</td>\n",
       "      <td>0.22</td>\n",
       "      <td>87.65</td>\n",
       "      <td>1.0</td>\n",
       "      <td>46.60</td>\n",
       "      <td>20.34</td>\n",
       "      <td>0.380</td>\n",
       "      <td>0.240</td>\n",
       "      <td>0.380</td>\n",
       "    </tr>\n",
       "    <tr>\n",
       "      <th>1</th>\n",
       "      <td>Albania</td>\n",
       "      <td>EASTERN EUROPE</td>\n",
       "      <td>3581655</td>\n",
       "      <td>28748</td>\n",
       "      <td>124.6</td>\n",
       "      <td>1.26</td>\n",
       "      <td>-4.93</td>\n",
       "      <td>21.52</td>\n",
       "      <td>4500.0</td>\n",
       "      <td>86.5</td>\n",
       "      <td>71.2</td>\n",
       "      <td>21.09</td>\n",
       "      <td>4.42</td>\n",
       "      <td>74.49</td>\n",
       "      <td>3.0</td>\n",
       "      <td>15.11</td>\n",
       "      <td>5.22</td>\n",
       "      <td>0.232</td>\n",
       "      <td>0.188</td>\n",
       "      <td>0.579</td>\n",
       "    </tr>\n",
       "    <tr>\n",
       "      <th>2</th>\n",
       "      <td>Algeria</td>\n",
       "      <td>NORTHERN AFRICA</td>\n",
       "      <td>32930091</td>\n",
       "      <td>2381740</td>\n",
       "      <td>13.8</td>\n",
       "      <td>0.04</td>\n",
       "      <td>-0.39</td>\n",
       "      <td>31.00</td>\n",
       "      <td>6000.0</td>\n",
       "      <td>70.0</td>\n",
       "      <td>78.1</td>\n",
       "      <td>3.22</td>\n",
       "      <td>0.25</td>\n",
       "      <td>96.53</td>\n",
       "      <td>1.0</td>\n",
       "      <td>17.14</td>\n",
       "      <td>4.61</td>\n",
       "      <td>0.101</td>\n",
       "      <td>0.600</td>\n",
       "      <td>0.298</td>\n",
       "    </tr>\n",
       "    <tr>\n",
       "      <th>3</th>\n",
       "      <td>American Samoa</td>\n",
       "      <td>OCEANIA</td>\n",
       "      <td>57794</td>\n",
       "      <td>199</td>\n",
       "      <td>290.4</td>\n",
       "      <td>58.29</td>\n",
       "      <td>-20.71</td>\n",
       "      <td>9.27</td>\n",
       "      <td>8000.0</td>\n",
       "      <td>97.0</td>\n",
       "      <td>259.5</td>\n",
       "      <td>10.00</td>\n",
       "      <td>15.00</td>\n",
       "      <td>75.00</td>\n",
       "      <td>2.0</td>\n",
       "      <td>22.46</td>\n",
       "      <td>3.27</td>\n",
       "      <td>NaN</td>\n",
       "      <td>NaN</td>\n",
       "      <td>NaN</td>\n",
       "    </tr>\n",
       "    <tr>\n",
       "      <th>4</th>\n",
       "      <td>Andorra</td>\n",
       "      <td>WESTERN EUROPE</td>\n",
       "      <td>71201</td>\n",
       "      <td>468</td>\n",
       "      <td>152.1</td>\n",
       "      <td>0.00</td>\n",
       "      <td>6.60</td>\n",
       "      <td>4.05</td>\n",
       "      <td>19000.0</td>\n",
       "      <td>100.0</td>\n",
       "      <td>497.2</td>\n",
       "      <td>2.22</td>\n",
       "      <td>0.00</td>\n",
       "      <td>97.78</td>\n",
       "      <td>3.0</td>\n",
       "      <td>8.71</td>\n",
       "      <td>6.25</td>\n",
       "      <td>NaN</td>\n",
       "      <td>NaN</td>\n",
       "      <td>NaN</td>\n",
       "    </tr>\n",
       "  </tbody>\n",
       "</table>\n",
       "</div>"
      ],
      "text/plain": [
       "          Country                Region  Population     Area  Pop_density  \\\n",
       "0     Afghanistan  ASIA (EX. NEAR EAST)    31056997   647500         48.0   \n",
       "1         Albania        EASTERN EUROPE     3581655    28748        124.6   \n",
       "2         Algeria       NORTHERN AFRICA    32930091  2381740         13.8   \n",
       "3  American Samoa               OCEANIA       57794      199        290.4   \n",
       "4         Andorra        WESTERN EUROPE       71201      468        152.1   \n",
       "\n",
       "   Coastline_ratio  Net_migration  Infant_mortality      GDP  Literacy  \\\n",
       "0             0.00          23.06            163.07    700.0      36.0   \n",
       "1             1.26          -4.93             21.52   4500.0      86.5   \n",
       "2             0.04          -0.39             31.00   6000.0      70.0   \n",
       "3            58.29         -20.71              9.27   8000.0      97.0   \n",
       "4             0.00           6.60              4.05  19000.0     100.0   \n",
       "\n",
       "   Phones_per_1000  Arable  Crops  Other  Climate  Birthrate  Deathrate  \\\n",
       "0              3.2   12.13   0.22  87.65      1.0      46.60      20.34   \n",
       "1             71.2   21.09   4.42  74.49      3.0      15.11       5.22   \n",
       "2             78.1    3.22   0.25  96.53      1.0      17.14       4.61   \n",
       "3            259.5   10.00  15.00  75.00      2.0      22.46       3.27   \n",
       "4            497.2    2.22   0.00  97.78      3.0       8.71       6.25   \n",
       "\n",
       "   Agriculture  Industry  Service  \n",
       "0        0.380     0.240    0.380  \n",
       "1        0.232     0.188    0.579  \n",
       "2        0.101     0.600    0.298  \n",
       "3          NaN       NaN      NaN  \n",
       "4          NaN       NaN      NaN  "
      ]
     },
     "execution_count": 179,
     "metadata": {},
     "output_type": "execute_result"
    }
   ],
   "source": [
    "for column in countries.columns:\n",
    "    if countries[column].dtype == np.dtype('O'):\n",
    "        countries[column] = countries[column].str.replace(',', '.')\n",
    "        try:\n",
    "            countries[column] = pd.to_numeric(countries[column])\n",
    "        except:\n",
    "            pass\n",
    "countries.head()"
   ]
  },
  {
   "cell_type": "code",
   "execution_count": 166,
   "metadata": {
    "scrolled": false
   },
   "outputs": [
    {
     "data": {
      "text/plain": [
       "(227, 20)"
      ]
     },
     "execution_count": 166,
     "metadata": {},
     "output_type": "execute_result"
    }
   ],
   "source": [
    "countries.shape"
   ]
  },
  {
   "cell_type": "markdown",
   "metadata": {},
   "source": [
    "## Questão 1\n",
    "\n",
    "Quais são as regiões (variável `Region`) presentes no _data set_? Retorne uma lista com as regiões únicas do _data set_ com os espaços à frente e atrás da string removidos (mas mantenha pontuação: ponto, hífen etc) e ordenadas em ordem alfabética."
   ]
  },
  {
   "cell_type": "code",
   "execution_count": 185,
   "metadata": {},
   "outputs": [],
   "source": [
    "def q1():\n",
    "    return sorted(countries['Region'].unique())"
   ]
  },
  {
   "cell_type": "code",
   "execution_count": 186,
   "metadata": {},
   "outputs": [
    {
     "data": {
      "text/plain": [
       "['ASIA (EX. NEAR EAST)',\n",
       " 'BALTICS',\n",
       " 'C.W. OF IND. STATES',\n",
       " 'EASTERN EUROPE',\n",
       " 'LATIN AMER. & CARIB',\n",
       " 'NEAR EAST',\n",
       " 'NORTHERN AFRICA',\n",
       " 'NORTHERN AMERICA',\n",
       " 'OCEANIA',\n",
       " 'SUB-SAHARAN AFRICA',\n",
       " 'WESTERN EUROPE']"
      ]
     },
     "execution_count": 186,
     "metadata": {},
     "output_type": "execute_result"
    }
   ],
   "source": [
    "q1()"
   ]
  },
  {
   "cell_type": "markdown",
   "metadata": {},
   "source": [
    "## Questão 2\n",
    "\n",
    "Discretizando a variável `Pop_density` em 10 intervalos com `KBinsDiscretizer`, seguindo o encode `ordinal` e estratégia `quantile`, quantos países se encontram acima do 90º percentil? Responda como um único escalar inteiro."
   ]
  },
  {
   "cell_type": "code",
   "execution_count": 183,
   "metadata": {},
   "outputs": [],
   "source": [
    "def q2():\n",
    "    discretizer = KBinsDiscretizer(n_bins=10, encode='ordinal', strategy='quantile')\n",
    "    pop_density_bins = discretizer.fit_transform(countries[['Pop_density']])\n",
    "    return int(sum(pop_density_bins[:,0] == 9))"
   ]
  },
  {
   "cell_type": "code",
   "execution_count": 184,
   "metadata": {},
   "outputs": [
    {
     "data": {
      "text/plain": [
       "23"
      ]
     },
     "execution_count": 184,
     "metadata": {},
     "output_type": "execute_result"
    }
   ],
   "source": [
    "q2()"
   ]
  },
  {
   "cell_type": "markdown",
   "metadata": {},
   "source": [
    "# Questão 3\n",
    "\n",
    "Se codificarmos as variáveis `Region` e `Climate` usando _one-hot encoding_, quantos novos atributos seriam criados? Responda como um único escalar."
   ]
  },
  {
   "cell_type": "code",
   "execution_count": 181,
   "metadata": {},
   "outputs": [],
   "source": [
    "def q3():\n",
    "    one_hot_encoder = OneHotEncoder(sparse=False, dtype=np.int)\n",
    "    region_climate_encoded = one_hot_encoder.fit_transform(countries[[\"Region\", \"Climate\"]].fillna(0))\n",
    "    return region_climate_encoded.shape[1]"
   ]
  },
  {
   "cell_type": "code",
   "execution_count": 182,
   "metadata": {},
   "outputs": [
    {
     "data": {
      "text/plain": [
       "18"
      ]
     },
     "execution_count": 182,
     "metadata": {},
     "output_type": "execute_result"
    }
   ],
   "source": [
    "q3()"
   ]
  },
  {
   "cell_type": "markdown",
   "metadata": {},
   "source": [
    "## Questão 4\n",
    "\n",
    "Aplique o seguinte _pipeline_:\n",
    "\n",
    "1. Preencha as variáveis do tipo `int64` e `float64` com suas respectivas medianas.\n",
    "2. Padronize essas variáveis.\n",
    "\n",
    "Após aplicado o _pipeline_ descrito acima aos dados (somente nas variáveis dos tipos especificados), aplique o mesmo _pipeline_ (ou `ColumnTransformer`) ao dado abaixo. Qual o valor da variável `Arable` após o _pipeline_? Responda como um único float arredondado para três casas decimais."
   ]
  },
  {
   "cell_type": "code",
   "execution_count": 89,
   "metadata": {},
   "outputs": [],
   "source": [
    "test_country = [\n",
    "    'Test Country', 'NEAR EAST', -0.19032480757326514,\n",
    "    -0.3232636124824411, -0.04421734470810142, -0.27528113360605316,\n",
    "    0.13255850810281325, -0.8054845935643491, 1.0119784924248225,\n",
    "    0.6189182532646624, 1.0074863283776458, 0.20239896852403538,\n",
    "    -0.043678728558593366, -0.13929748680369286, 1.3163604645710438,\n",
    "    -0.3699637766938669, -0.6149300604558857, -0.854369594993175,\n",
    "    0.263445277972641, 0.5712416961268142\n",
    "]"
   ]
  },
  {
   "cell_type": "code",
   "execution_count": 187,
   "metadata": {},
   "outputs": [],
   "source": [
    "def q4():\n",
    "    test_country_df = pd.DataFrame([test_country], columns=countries.columns)\n",
    "    nums_pipeline = Pipeline(steps=[\n",
    "        ('fill_median', SimpleImputer(missing_values=np.nan, strategy='median')),\n",
    "        ('standardize', StandardScaler())\n",
    "    ])\n",
    "    nums = nums_pipeline.fit_transform(countries.iloc[:,2:])\n",
    "    nums = nums_pipeline.transform(test_country_df.iloc[:,2:])\n",
    "    return float(pd.DataFrame([nums[0]], columns=countries.columns[2:])['Arable'].round(3))"
   ]
  },
  {
   "cell_type": "code",
   "execution_count": 188,
   "metadata": {},
   "outputs": [
    {
     "data": {
      "text/plain": [
       "-1.047"
      ]
     },
     "execution_count": 188,
     "metadata": {},
     "output_type": "execute_result"
    }
   ],
   "source": [
    "q4()"
   ]
  },
  {
   "cell_type": "markdown",
   "metadata": {},
   "source": [
    "## Questão 5\n",
    "\n",
    "Descubra o número de _outliers_ da variável `Net_migration` segundo o método do _boxplot_, ou seja, usando a lógica:\n",
    "\n",
    "$$x \\notin [Q1 - 1.5 \\times \\text{IQR}, Q3 + 1.5 \\times \\text{IQR}] \\Rightarrow x \\text{ é outlier}$$\n",
    "\n",
    "que se encontram no grupo inferior e no grupo superior.\n",
    "\n",
    "Você deveria remover da análise as observações consideradas _outliers_ segundo esse método? Responda como uma tupla de três elementos `(outliers_abaixo, outliers_acima, removeria?)` ((int, int, bool))."
   ]
  },
  {
   "cell_type": "code",
   "execution_count": 189,
   "metadata": {},
   "outputs": [],
   "source": [
    "def q5():\n",
    "    q1 = countries.Net_migration.quantile(0.25)\n",
    "    q3 = countries.Net_migration.quantile(0.75)\n",
    "    iqr = q3 - q1\n",
    "    non_outlier_interval_iqr = [q1 - 1.5 * iqr, q3 + 1.5 * iqr]\n",
    "    \n",
    "    outliers_abaixo = countries.Net_migration[countries.Net_migration < non_outlier_interval_iqr[0]]\n",
    "    outliers_acima = countries.Net_migration[countries.Net_migration > non_outlier_interval_iqr[1]]\n",
    "    \n",
    "    return (outliers_abaixo.shape[0], outliers_acima.shape[0], False)"
   ]
  },
  {
   "cell_type": "code",
   "execution_count": 190,
   "metadata": {},
   "outputs": [
    {
     "data": {
      "text/plain": [
       "(24, 26, False)"
      ]
     },
     "execution_count": 190,
     "metadata": {},
     "output_type": "execute_result"
    }
   ],
   "source": [
    "q5()"
   ]
  },
  {
   "cell_type": "markdown",
   "metadata": {},
   "source": [
    "## Questão 6\n",
    "Para as questões 6 e 7 utilize a biblioteca `fetch_20newsgroups` de datasets de test do `sklearn`\n",
    "\n",
    "Considere carregar as seguintes categorias e o dataset `newsgroups`:\n",
    "\n",
    "```\n",
    "categories = ['sci.electronics', 'comp.graphics', 'rec.motorcycles']\n",
    "newsgroup = fetch_20newsgroups(subset=\"train\", categories=categories, shuffle=True, random_state=42)\n",
    "```\n",
    "\n",
    "\n",
    "Aplique `CountVectorizer` ao _data set_ `newsgroups` e descubra o número de vezes que a palavra _phone_ aparece no corpus. Responda como um único escalar."
   ]
  },
  {
   "cell_type": "code",
   "execution_count": 199,
   "metadata": {},
   "outputs": [],
   "source": [
    "def q6():\n",
    "    categories = ['sci.electronics', 'comp.graphics', 'rec.motorcycles']\n",
    "    newsgroups = fetch_20newsgroups(subset=\"train\", categories=categories, shuffle=True, random_state=42)\n",
    "    \n",
    "    count_vectorizer = CountVectorizer()\n",
    "    newsgroups_counts = count_vectorizer.fit_transform(newsgroups.data)\n",
    "    words = pd.DataFrame(newsgroups_counts.toarray(), columns=count_vectorizer.get_feature_names())\n",
    "    \n",
    "    return int(words['phone'].sum())"
   ]
  },
  {
   "cell_type": "code",
   "execution_count": 200,
   "metadata": {},
   "outputs": [
    {
     "data": {
      "text/plain": [
       "213"
      ]
     },
     "execution_count": 200,
     "metadata": {},
     "output_type": "execute_result"
    }
   ],
   "source": [
    "q6()"
   ]
  },
  {
   "cell_type": "markdown",
   "metadata": {},
   "source": [
    "## Questão 7\n",
    "\n",
    "Aplique `TfidfVectorizer` ao _data set_ `newsgroups` e descubra o TF-IDF da palavra _phone_. Responda como um único escalar arredondado para três casas decimais."
   ]
  },
  {
   "cell_type": "code",
   "execution_count": 24,
   "metadata": {},
   "outputs": [],
   "source": [
    "def q7():\n",
    "    categories = ['sci.electronics', 'comp.graphics', 'rec.motorcycles']\n",
    "    newsgroups = fetch_20newsgroups(subset=\"train\", categories=categories, shuffle=True, random_state=42)\n",
    "    \n",
    "    count_vectorizer = CountVectorizer()\n",
    "    newsgroups_counts = count_vectorizer.fit_transform(newsgroups.data)\n",
    "    words_idx = count_vectorizer.vocabulary_.get('phone')\n",
    "    \n",
    "    tfidf_vectorizer = TfidfVectorizer()\n",
    "    tfidf_vectorizer.fit(newsgroups.data)\n",
    "\n",
    "    newsgroups_tfidf_vectorized = tfidf_vectorizer.transform(newsgroups.data)\n",
    "    \n",
    "    return float(newsgroups_tfidf_vectorized[:, words_idx].toarray().sum().round(3))"
   ]
  },
  {
   "cell_type": "code",
   "execution_count": 25,
   "metadata": {},
   "outputs": [
    {
     "data": {
      "text/plain": [
       "8.888"
      ]
     },
     "execution_count": 25,
     "metadata": {},
     "output_type": "execute_result"
    }
   ],
   "source": [
    "q7()"
   ]
  },
  {
   "cell_type": "code",
   "execution_count": null,
   "metadata": {},
   "outputs": [],
   "source": []
  }
 ],
 "metadata": {
  "kernelspec": {
   "display_name": "Python 3",
   "language": "python",
   "name": "python3"
  },
  "language_info": {
   "codemirror_mode": {
    "name": "ipython",
    "version": 3
   },
   "file_extension": ".py",
   "mimetype": "text/x-python",
   "name": "python",
   "nbconvert_exporter": "python",
   "pygments_lexer": "ipython3",
   "version": "3.7.6"
  }
 },
 "nbformat": 4,
 "nbformat_minor": 2
}
